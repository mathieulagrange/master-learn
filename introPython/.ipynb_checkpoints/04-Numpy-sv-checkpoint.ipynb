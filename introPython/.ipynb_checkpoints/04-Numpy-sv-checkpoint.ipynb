{
 "cells": [
  {
   "cell_type": "markdown",
   "metadata": {},
   "source": [
    "# Introduction to Numpy\n",
    "\n",
    "Author: Diana Mateus\n"
   ]
  },
  {
   "cell_type": "markdown",
   "metadata": {},
   "source": [
    "##  Numpy Basics\n",
    "Numpy is the most widely-used PYthon library for creating and manipulating n-D arrays. Import the module with\n",
    "```python\n",
    "import numpy as np\n",
    "```"
   ]
  },
  {
   "cell_type": "code",
   "execution_count": null,
   "metadata": {
    "collapsed": true
   },
   "outputs": [],
   "source": []
  },
  {
   "cell_type": "markdown",
   "metadata": {},
   "source": [
    "__Data Types__\n",
    "\n",
    "n-D arrays are associated to a data type. Some types of interest are ```python float32, float64, int32, int64, bool```. Create a NumPy array using\n",
    "```python \n",
    "out=np.asarray([0, 1, 0])\n",
    "```\n",
    "what is the datatype of ```python out```?\n",
    "(print ```out.dtype```)"
   ]
  },
  {
   "cell_type": "code",
   "execution_count": null,
   "metadata": {
    "collapsed": true
   },
   "outputs": [],
   "source": []
  },
  {
   "cell_type": "markdown",
   "metadata": {},
   "source": [
    "Create another array\n",
    "```python \n",
    "out = np.asarray([0.0, 1.0, 0.0])\n",
    "```\n",
    "\n",
    "What is the dtype of out?"
   ]
  },
  {
   "cell_type": "code",
   "execution_count": null,
   "metadata": {
    "collapsed": true
   },
   "outputs": [],
   "source": []
  },
  {
   "cell_type": "markdown",
   "metadata": {},
   "source": [
    "__Simple array creation__\n",
    "\n",
    "- Create a 3x3 array of zeros, named ``` A_zeros```, using ``` np.zeros ```. Print ```A_zeros``` and its ``` dtype```\n",
    "\n",
    "- Create a 3x3 array of ones, named ``` A_ones```, using ``` np.ones```. Print ```A_ones``` and its ``` dtype```\n",
    "\n",
    "- Create a 3x1 array of ones, named ``` x_ones```, using ``` np.ones```. Print ```x_ones``` and make sure it prints as a column (3x1) and not as a row (1x3) vector\n",
    "\n",
    "- Create a 1-D array using \n",
    "```python \n",
    "simple_count = np.arange(0,9)\n",
    "```\n",
    "- Print ```simple_count``` and its ``` dtype```. What are its maximum and minimum values?, what is the type of the max and min?\n",
    "\n",
    "\n"
   ]
  },
  {
   "cell_type": "code",
   "execution_count": null,
   "metadata": {
    "collapsed": true
   },
   "outputs": [],
   "source": []
  },
  {
   "cell_type": "markdown",
   "metadata": {},
   "source": [
    "__Reshaping__\n",
    "\n",
    "Numpy saves matrices as contiguous arrays along rows (not columns). Reshaping simple changes the our view of a strip of flat memory. This is also true for higher dimensional arrays.\n",
    "\n",
    "- Print the shape of ```A.ones``` and ```simple_count```\n",
    "\n",
    "- Create a matrix ```simple_count_matrix``` using \n",
    "```python\n",
    "np.reshape(simple_count,[3,3])\n",
    "```\n",
    "- Print ```simple_count_matrix``` and check the order of the elements\n",
    "\n",
    "- Reshape the ```A_ones``` matrix using first\n",
    "```python\n",
    "out = np.reshape(A_ones, [-1,1])\n",
    "```\n",
    "- and then\n",
    "```python\n",
    "out = np.reshape(A_ones, [-1,3])\n",
    "```\n",
    "- print the result ```out``` in each case as well as its shape\n",
    "\n",
    "\"-1\" lets python deduce the dimension that makes sense. \n",
    "- If it does not make sense then an error is produced, e.g. uncomment\n",
    "```python\n",
    "np.reshape(A_ones, [-1,2])\n",
    "```\n"
   ]
  },
  {
   "cell_type": "code",
   "execution_count": null,
   "metadata": {
    "collapsed": true
   },
   "outputs": [],
   "source": []
  },
  {
   "cell_type": "markdown",
   "metadata": {},
   "source": [
    "__Matrix Multiplication and element-wise multiplication__\n",
    "\n",
    "Print the result of the following operations and describe the operation taking place\n",
    "```python\n",
    "B=np.matmul(A_ones,A_ones)\n",
    "C=np.multiply(A_ones,A_ones)\n",
    "D=A_ones.dot(A_ones)\n",
    "E=A_ones*A_ones\n",
    "F=np.power(A_ones, 2)\n",
    "```\n",
    "\n"
   ]
  },
  {
   "cell_type": "code",
   "execution_count": null,
   "metadata": {
    "collapsed": true
   },
   "outputs": [],
   "source": []
  },
  {
   "cell_type": "markdown",
   "metadata": {},
   "source": [
    "__Broadcasting__\n",
    "\n",
    "Broadcasting means repeating elements along a direction. This is efficiently done in Numpy\n",
    "\n",
    "- Define a matrix ```data``` of shape ```[100,5]``` with \n",
    "```python\n",
    "np.random.random\n",
    "```\n",
    "\n",
    "- Compute the mean with \n",
    "```python\n",
    "mu = np.mean(data, axis=0)\n",
    "```\n",
    "- Print the mean, it should approximately be ```[0.5,0.5, ...]```\n",
    "\n",
    "- Now run\n",
    "```python\n",
    "data_centered = data - mu\n",
    "```\n",
    "-  compute and print the mean of ```data_centered```\n",
    "\n",
    "Notice that despite the difference in shape the substraction was correctly effectuated\n"
   ]
  },
  {
   "cell_type": "code",
   "execution_count": null,
   "metadata": {
    "collapsed": true
   },
   "outputs": [],
   "source": []
  },
  {
   "cell_type": "markdown",
   "metadata": {},
   "source": [
    "__Matrix manipulation__\n",
    "\n",
    "- Generate a random matrix A of size 5x6\n",
    "- Delete the last column of A with ```delete```\n",
    "- Transform A into a vector using ```flatten``` or ```ravel```\n",
    "- Get the biggest entry of the first row of ```A``` \n",
    "- Get the smallest entry of the second column of ```A```\n",
    "- Create a __new__ matrix B with the same content as ```A```\n",
    "- Set the first row of ```B``` to ones and the last two rows of ```B``` to zero, verify that the content of ```A``` has not changed\n"
   ]
  },
  {
   "cell_type": "code",
   "execution_count": null,
   "metadata": {
    "collapsed": true
   },
   "outputs": [],
   "source": []
  },
  {
   "cell_type": "markdown",
   "metadata": {},
   "source": [
    "__Visualization__\n",
    "\n",
    "Import the following\n",
    "```python\n",
    "import matplotlib\n",
    "import matplotlib.pyplot as plt\n",
    "```\n",
    "Activate inline plotting with ```%matplotlib inline```\n",
    "\n",
    "Treat A as an image and visualize it, using ```plt.imshow()``` . set interpolation to \"nearest\" and colormap to gray."
   ]
  },
  {
   "cell_type": "code",
   "execution_count": null,
   "metadata": {
    "collapsed": true
   },
   "outputs": [],
   "source": []
  },
  {
   "cell_type": "code",
   "execution_count": null,
   "metadata": {
    "collapsed": true
   },
   "outputs": [],
   "source": []
  }
 ],
 "metadata": {
  "anaconda-cloud": {},
  "kernelspec": {
   "display_name": "Python 2",
   "language": "python",
   "name": "python2"
  },
  "language_info": {
   "codemirror_mode": {
    "name": "ipython",
    "version": 2
   },
   "file_extension": ".py",
   "mimetype": "text/x-python",
   "name": "python",
   "nbconvert_exporter": "python",
   "pygments_lexer": "ipython2",
   "version": "2.7.12"
  }
 },
 "nbformat": 4,
 "nbformat_minor": 1
}
